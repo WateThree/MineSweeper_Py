{
 "cells": [
  {
   "cell_type": "code",
   "execution_count": null,
   "metadata": {},
   "outputs": [],
   "source": [
    "import json\n",
    "from MineSweeper.core import MineSweeperService\n",
    "\n",
    "mineSweeperService = MineSweeperService(3,3,3)\n",
    "contents = []\n",
    "dataNums = 10\n",
    "for i in range(dataNums):\n",
    "    contents.append(mineSweeperService.GetCurGameDesString())\n",
    "    mineSweeperService.RandomSafeClick()\n",
    "    if mineSweeperService.IsGameOver():\n",
    "        mineSweeperService.ReSetCurGame()\n",
    "data_entries = [\n",
    "    {\"messages\": [{\"role\": \"assistant\", \"content\": content}]}\n",
    "    for content in contents\n",
    "]\n",
    "with open(\"output.jsonl\", \"w\", encoding=\"utf-8\") as f:\n",
    "    for entry in data_entries:\n",
    "        f.write(json.dumps(entry, ensure_ascii=False) + \"\\n\")\n"
   ]
  },
  {
   "cell_type": "code",
   "execution_count": null,
   "metadata": {},
   "outputs": [
    {
     "data": {
      "text/plain": [
       "['BBB\\nBBB\\nBBB\\n',\n",
       " 'BBB\\nB3B\\nBBB\\n',\n",
       " 'BBB\\nB31\\nBBB\\n',\n",
       " 'B1B\\nB31\\nBBB\\n',\n",
       " 'B1B\\nB31\\nB3B\\n',\n",
       " 'B10\\nB31\\nB3B\\n',\n",
       " 'BBB\\nBBB\\nBBB\\n',\n",
       " 'B2B\\nBBB\\nBBB\\n',\n",
       " 'B2B\\nBBB\\n1BB\\n',\n",
       " 'B2B\\nB3B\\n1BB\\n']"
      ]
     },
     "execution_count": 16,
     "metadata": {},
     "output_type": "execute_result"
    }
   ],
   "source": []
  },
  {
   "cell_type": "code",
   "execution_count": null,
   "metadata": {},
   "outputs": [
    {
     "data": {
      "text/plain": [
       "10"
      ]
     },
     "execution_count": 18,
     "metadata": {},
     "output_type": "execute_result"
    }
   ],
   "source": []
  },
  {
   "cell_type": "code",
   "execution_count": null,
   "metadata": {},
   "outputs": [],
   "source": []
  },
  {
   "cell_type": "code",
   "execution_count": null,
   "metadata": {},
   "outputs": [],
   "source": []
  },
  {
   "cell_type": "code",
   "execution_count": 12,
   "metadata": {},
   "outputs": [],
   "source": [
    "import json\n",
    "with open(\"dataset.json\", \"w\") as f:\n",
    "    json.dump(dataset, f, indent=4)"
   ]
  }
 ],
 "metadata": {
  "kernelspec": {
   "display_name": "Python 3",
   "language": "python",
   "name": "python3"
  },
  "language_info": {
   "codemirror_mode": {
    "name": "ipython",
    "version": 3
   },
   "file_extension": ".py",
   "mimetype": "text/x-python",
   "name": "python",
   "nbconvert_exporter": "python",
   "pygments_lexer": "ipython3",
   "version": "3.10.8"
  }
 },
 "nbformat": 4,
 "nbformat_minor": 2
}
