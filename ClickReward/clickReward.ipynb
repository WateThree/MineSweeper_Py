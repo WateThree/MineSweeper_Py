{
 "cells": [
  {
   "cell_type": "markdown",
   "metadata": {},
   "source": [
    "初始状态下，点击所有位置Reward暂定为0"
   ]
  },
  {
   "cell_type": "code",
   "execution_count": null,
   "metadata": {},
   "outputs": [],
   "source": [
    "from MineSweeper.core import MineSweeperService,MineSweeperGame,Cell,CellType\n",
    "import hashlib\n",
    "\n",
    "class RewardSingleData:\n",
    "    def __init__(self, curGame : MineSweeperGame, clickX, clickY,reward = 0):\n",
    "        self.curGame = curGame\n",
    "        self.clickX = clickX\n",
    "        self.clickY = clickY\n",
    "        self.reward = reward\n",
    "    \n",
    "    def GetHashValue(self):\n",
    "        return calculate_string_hash(self.curGame.GetGameDesString()+str(self.clickX)+str(self.clickY))\n",
    "\n",
    "class RewardValueClass:\n",
    "    def __init__(self,curRewardValue):\n",
    "        self.curRewardValue = curRewardValue\n",
    "        self.Count = 1\n",
    "\n",
    "    def CalculateAverage(self,newRewardValue):\n",
    "        self.curRewardValue = float(self.curRewardValue*self.Count + newRewardValue)/float(self.Count+1)\n",
    "        self.Count += 1\n",
    "\n",
    "class RewardData:\n",
    "    def __init__(self):\n",
    "        self.rewardDataDict = {}\n",
    "    \n",
    "    def AddRewardSingleData(self,rewardSingleData):\n",
    "        curGameHashValue = rewardSingleData.GetHashValue()\n",
    "        if self.rewardDataDict.get(curGameHashValue,None) is None:\n",
    "            self.rewardDataDict.setdefault(curGameHashValue,RewardValueClass(rewardSingleData.reward))\n",
    "        else:\n",
    "            self.rewardDataDict[curGameHashValue].CalculateAverage(float(rewardSingleData.reward))\n",
    "        \n",
    "    def GetRewardValueDataCurRewardValue(self,rewardSingleData:RewardSingleData):\n",
    "        curGameHashValue = rewardSingleData.GetHashValue()\n",
    "        rewardValueClass : RewardValueClass = self.rewardDataDict.get(curGameHashValue,None)\n",
    "        if  rewardValueClass is None:\n",
    "            return False,None\n",
    "        else:\n",
    "            return True,rewardValueClass.curRewardValue\n",
    "\n",
    "    def ClearRewardData(self):\n",
    "        self.rewardDataDict.clear()\n",
    "\n",
    "def calculate_string_hash(s):\n",
    "    # 创建一个哈希对象\n",
    "    hash_obj = hashlib.new(\"sha256\")\n",
    "    # 更新哈希对象的内容\n",
    "    hash_obj.update(s.encode(\"utf-8\"))\n",
    "    # 返回十六进制格式的哈希值\n",
    "    return hash_obj.hexdigest()\n"
   ]
  },
  {
   "cell_type": "code",
   "execution_count": 2,
   "metadata": {},
   "outputs": [],
   "source": [
    "def CalculateRewardData(mineSweeperService:MineSweeperService,iter=100000):\n",
    "    mineSweeperService = MineSweeperService(height=3,width = 3,mineNum = 3)\n",
    "    rewardData = RewardData()\n",
    "    for _ in range(iter):\n",
    "        if mineSweeperService.IsGameOver():\n",
    "            mineSweeperService.ReSetCurGame()\n",
    "        mineSweeperService.RandomSafeClick()\n",
    "        curGame = mineSweeperService.GetCurGame()\n",
    "        for unRevealedCellIndex in curGame.UnRevealedSet:\n",
    "            unRevealedCell = curGame.cellGrid.cells[unRevealedCellIndex[0]][unRevealedCellIndex[1]]\n",
    "            unRevealedCell : Cell\n",
    "            if unRevealedCell.cellType == CellType.Mine:\n",
    "                reward = -2\n",
    "            else:\n",
    "                reward = 1\n",
    "            rewardSingleData = RewardSingleData(curGame=curGame,\n",
    "                                                clickX= unRevealedCell.pos[0],\n",
    "                                                clickY=unRevealedCell.pos[1],\n",
    "                                                reward=reward)\n",
    "            rewardData.AddRewardSingleData(rewardSingleData=rewardSingleData)\n",
    "    return rewardData"
   ]
  },
  {
   "cell_type": "code",
   "execution_count": 3,
   "metadata": {},
   "outputs": [],
   "source": [
    "# 对于3 5^9*3*3 = 17,578,125 C(3,9) × A(6,9) = 5,080,320 实际上的情况 35714 ~ 30s\n",
    "# 对于4 6^16*4*4 = 45,137,758,519,296 C(4,16) × A(12,16) = 1,586,644,899,840,000 1e4h 均匀采样\n",
    "def CalculateStateNum(mineSweeperService:MineSweeperService,iter):\n",
    "    mineSweeperService = MineSweeperService(3,3,3)\n",
    "    rewardData = CalculateRewardData(mineSweeperService,iter)\n",
    "    return len(rewardData.rewardDataDict)\n",
    "\n",
    "#mineSweeperService = MineSweeperService(3,3,3)\n",
    "#print(CalculateStateNum(mineSweeperService,int(1e4)))\n",
    "#print(CalculateStateNum(mineSweeperService,int(1e5)))\n",
    "#print(CalculateStateNum(mineSweeperService,int(1e6)))\n",
    "#print(CalculateStateNum(mineSweeperService,int(1e7)))\n",
    "#15387 33235 35714 35714\n"
   ]
  },
  {
   "cell_type": "code",
   "execution_count": 4,
   "metadata": {},
   "outputs": [],
   "source": [
    "mineSweeperService = MineSweeperService(3,3,3)\n",
    "rewardData = CalculateRewardData(mineSweeperService=mineSweeperService,iter=int(1e6))"
   ]
  },
  {
   "cell_type": "code",
   "execution_count": 5,
   "metadata": {},
   "outputs": [],
   "source": [
    "#mineSweeperService = MineSweeperService(4,4,4)\n",
    "#rewardData = CalculateRewardData(mineSweeperService=mineSweeperService,iter=1000000)"
   ]
  },
  {
   "cell_type": "code",
   "execution_count": 6,
   "metadata": {},
   "outputs": [
    {
     "data": {
      "text/plain": [
       "35714"
      ]
     },
     "execution_count": 6,
     "metadata": {},
     "output_type": "execute_result"
    }
   ],
   "source": [
    "len(rewardData.rewardDataDict)"
   ]
  },
  {
   "cell_type": "code",
   "execution_count": 7,
   "metadata": {},
   "outputs": [],
   "source": [
    "#for rewarddataDictValue in rewardData.rewardDataDict.values():\n",
    "#    print(rewarddataDictValue.curRewardValue)\n",
    "#for rewarddataDictValue in rewardData.rewardDataDict.values():\n",
    "#    print(rewarddataDictValue.Count)"
   ]
  },
  {
   "cell_type": "code",
   "execution_count": 8,
   "metadata": {},
   "outputs": [],
   "source": [
    "'''\n",
    "RewardMaxPolicy\n",
    "'''\n",
    "def RewardPWinRate(mineSweeperService:MineSweeperService,rewardData:RewardData,iter):\n",
    "    GameRun = 0\n",
    "    WinRun =0\n",
    "    LossRun = 0\n",
    "    \n",
    "    for _ in range(iter):\n",
    "        if mineSweeperService.IsGameStart():\n",
    "            mineSweeperService.RandomClick()\n",
    "        curGame = mineSweeperService.GetCurGame()\n",
    "        maxClickX = None\n",
    "        maxClickY = None\n",
    "        curMaxReward = -2\n",
    "        for pos in curGame.UnRevealedSet:\n",
    "            clickX = pos[0]\n",
    "            clickY = pos[1]\n",
    "            curRewardSingleData = RewardSingleData(mineSweeperService.GetCurGame(),clickX,clickY,0)\n",
    "            vaild,rewardValue = rewardData.GetRewardValueDataCurRewardValue(curRewardSingleData)\n",
    "            if vaild:\n",
    "                if rewardValue >= curMaxReward:\n",
    "                    maxClickX = clickX\n",
    "                    maxClickY = clickY\n",
    "                    curMaxReward = rewardValue\n",
    "            else:\n",
    "                print(\"Never meet curGame\")\n",
    "                print(curGame.GetGameDesString())\n",
    "                print(clickX,clickY)\n",
    "        if maxClickX is None:\n",
    "            #所有情况都没遇到过，取Set里第一个\n",
    "            for pos in curGame.UnRevealedSet:\n",
    "                maxClickX = pos[0]\n",
    "                maxClickY = pos[1]\n",
    "                break\n",
    "        mineSweeperService.TryClick(maxClickX,maxClickY)\n",
    "        if mineSweeperService.IsGameOver():\n",
    "            if mineSweeperService.IsGameWin():\n",
    "                WinRun += 1\n",
    "            if mineSweeperService.IsGameLoss():\n",
    "                LossRun += 1\n",
    "            \n",
    "            GameRun += 1\n",
    "            mineSweeperService.ReSetCurGame()\n",
    "            \n",
    "\n",
    "    print(f\"WinRun:{WinRun},GameRun:{GameRun},LossRun:{LossRun}\")\n",
    "    print(\"WinRate:\",float(WinRun) / float(GameRun))"
   ]
  },
  {
   "cell_type": "code",
   "execution_count": 9,
   "metadata": {},
   "outputs": [
    {
     "name": "stdout",
     "output_type": "stream",
     "text": [
      "WinRun:175,GameRun:321,LossRun:146\n",
      "WinRate: 0.5451713395638629\n"
     ]
    }
   ],
   "source": [
    "RewardPWinRate(mineSweeperService,rewardData,1000)"
   ]
  },
  {
   "cell_type": "code",
   "execution_count": 10,
   "metadata": {},
   "outputs": [
    {
     "name": "stdout",
     "output_type": "stream",
     "text": [
      "WinRun:176686,GameRun:315699,LossRun:139013\n",
      "WinRate: 0.5596660109788121\n"
     ]
    }
   ],
   "source": [
    "RewardPWinRate(mineSweeperService,rewardData,int(1e6))"
   ]
  }
 ],
 "metadata": {
  "kernelspec": {
   "display_name": "Python 3",
   "language": "python",
   "name": "python3"
  },
  "language_info": {
   "codemirror_mode": {
    "name": "ipython",
    "version": 3
   },
   "file_extension": ".py",
   "mimetype": "text/x-python",
   "name": "python",
   "nbconvert_exporter": "python",
   "pygments_lexer": "ipython3",
   "version": "3.10.8"
  }
 },
 "nbformat": 4,
 "nbformat_minor": 2
}
