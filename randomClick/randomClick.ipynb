{
 "cells": [
  {
   "cell_type": "code",
   "execution_count": null,
   "metadata": {},
   "outputs": [],
   "source": [
    "#pip install -e ."
   ]
  },
  {
   "cell_type": "code",
   "execution_count": 1,
   "metadata": {},
   "outputs": [],
   "source": [
    "from MineSweeper.core import MineSweeperService\n",
    "def RandomWinRate(mineSweeperService:MineSweeperService,iter):\n",
    "    GameRun = 0\n",
    "    WinRun =0\n",
    "    LossRun = 0\n",
    "    for _ in range(iter):\n",
    "        mineSweeperService.RandomClick()\n",
    "        if(mineSweeperService.IsGameOver()):\n",
    "            if(mineSweeperService.IsGameWin()):\n",
    "                WinRun += 1\n",
    "            if(mineSweeperService.IsGameLoss()):\n",
    "                LossRun += 1\n",
    "            \n",
    "            GameRun += 1\n",
    "            mineSweeperService.ReSetCurGame()\n",
    "\n",
    "    print(f\"WinRun:{WinRun},GameRun:{GameRun},LossRun:{LossRun}\")\n",
    "    print(\"WinRate:\",float(WinRun) / float(GameRun))"
   ]
  },
  {
   "cell_type": "code",
   "execution_count": 2,
   "metadata": {},
   "outputs": [
    {
     "name": "stdout",
     "output_type": "stream",
     "text": [
      "WinRun:6,GameRun:20230,LossRun:20224\n",
      "WinRate: 0.00029658922392486405\n"
     ]
    }
   ],
   "source": [
    "mineSweeperService = MineSweeperService()\n",
    "RandomWinRate(mineSweeperService,int(1e5))"
   ]
  },
  {
   "cell_type": "code",
   "execution_count": 3,
   "metadata": {},
   "outputs": [
    {
     "name": "stdout",
     "output_type": "stream",
     "text": [
      "WinRun:25,GameRun:201977,LossRun:201952\n",
      "WinRate: 0.00012377646959802353\n"
     ]
    }
   ],
   "source": [
    "mineSweeperService = MineSweeperService()\n",
    "RandomWinRate(mineSweeperService,int(1e6))"
   ]
  },
  {
   "cell_type": "code",
   "execution_count": 4,
   "metadata": {},
   "outputs": [
    {
     "ename": "KeyboardInterrupt",
     "evalue": "",
     "output_type": "error",
     "traceback": [
      "\u001b[1;31m---------------------------------------------------------------------------\u001b[0m",
      "\u001b[1;31mKeyboardInterrupt\u001b[0m                         Traceback (most recent call last)",
      "Cell \u001b[1;32mIn[4], line 2\u001b[0m\n\u001b[0;32m      1\u001b[0m mineSweeperService \u001b[38;5;241m=\u001b[39m MineSweeperService()\n\u001b[1;32m----> 2\u001b[0m \u001b[43mRandomWinRate\u001b[49m\u001b[43m(\u001b[49m\u001b[43mmineSweeperService\u001b[49m\u001b[43m,\u001b[49m\u001b[38;5;28;43mint\u001b[39;49m\u001b[43m(\u001b[49m\u001b[38;5;241;43m1e7\u001b[39;49m\u001b[43m)\u001b[49m\u001b[43m)\u001b[49m\n",
      "Cell \u001b[1;32mIn[1], line 7\u001b[0m, in \u001b[0;36mRandomWinRate\u001b[1;34m(mineSweeperService, iter)\u001b[0m\n\u001b[0;32m      5\u001b[0m LossRun \u001b[38;5;241m=\u001b[39m \u001b[38;5;241m0\u001b[39m\n\u001b[0;32m      6\u001b[0m \u001b[38;5;28;01mfor\u001b[39;00m _ \u001b[38;5;129;01min\u001b[39;00m \u001b[38;5;28mrange\u001b[39m(\u001b[38;5;28miter\u001b[39m):\n\u001b[1;32m----> 7\u001b[0m     \u001b[43mmineSweeperService\u001b[49m\u001b[38;5;241;43m.\u001b[39;49m\u001b[43mRandomClick\u001b[49m\u001b[43m(\u001b[49m\u001b[43m)\u001b[49m\n\u001b[0;32m      8\u001b[0m     \u001b[38;5;28;01mif\u001b[39;00m(mineSweeperService\u001b[38;5;241m.\u001b[39mIsGameOver()):\n\u001b[0;32m      9\u001b[0m         \u001b[38;5;28;01mif\u001b[39;00m(mineSweeperService\u001b[38;5;241m.\u001b[39mIsGameWin()):\n",
      "File \u001b[1;32mD:\\Project\\GitProject\\MineSweeper_Py\\MineSweeper\\core\\MineSweeperService.py:41\u001b[0m, in \u001b[0;36mMineSweeperService.RandomClick\u001b[1;34m(self)\u001b[0m\n\u001b[0;32m     40\u001b[0m \u001b[38;5;28;01mdef\u001b[39;00m\u001b[38;5;250m \u001b[39m\u001b[38;5;21mRandomClick\u001b[39m(\u001b[38;5;28mself\u001b[39m):\n\u001b[1;32m---> 41\u001b[0m     \u001b[38;5;28;43mself\u001b[39;49m\u001b[38;5;241;43m.\u001b[39;49m\u001b[43mGetCurGame\u001b[49m\u001b[43m(\u001b[49m\u001b[43m)\u001b[49m\u001b[38;5;241;43m.\u001b[39;49m\u001b[43mRandomClick\u001b[49m\u001b[43m(\u001b[49m\u001b[43m)\u001b[49m\n",
      "File \u001b[1;32mD:\\Project\\GitProject\\MineSweeper_Py\\MineSweeper\\core\\MineSweeperGame.py:56\u001b[0m, in \u001b[0;36mMineSweeperGame.RandomClick\u001b[1;34m(self)\u001b[0m\n\u001b[0;32m     54\u001b[0m index\u001b[38;5;241m-\u001b[39m\u001b[38;5;241m=\u001b[39m\u001b[38;5;241m1\u001b[39m\n\u001b[0;32m     55\u001b[0m \u001b[38;5;28;01mif\u001b[39;00m(index \u001b[38;5;241m<\u001b[39m \u001b[38;5;241m0\u001b[39m):\n\u001b[1;32m---> 56\u001b[0m     \u001b[38;5;28;43mself\u001b[39;49m\u001b[38;5;241;43m.\u001b[39;49m\u001b[43mTryClick\u001b[49m\u001b[43m(\u001b[49m\u001b[43mpos\u001b[49m\u001b[43m[\u001b[49m\u001b[38;5;241;43m0\u001b[39;49m\u001b[43m]\u001b[49m\u001b[43m,\u001b[49m\u001b[43mpos\u001b[49m\u001b[43m[\u001b[49m\u001b[38;5;241;43m1\u001b[39;49m\u001b[43m]\u001b[49m\u001b[43m)\u001b[49m\n\u001b[0;32m     57\u001b[0m     \u001b[38;5;28;01mreturn\u001b[39;00m\n",
      "File \u001b[1;32mD:\\Project\\GitProject\\MineSweeper_Py\\MineSweeper\\core\\MineSweeperGame.py:49\u001b[0m, in \u001b[0;36mMineSweeperGame.TryClick\u001b[1;34m(self, x, y)\u001b[0m\n\u001b[0;32m     47\u001b[0m \u001b[38;5;28;01mdef\u001b[39;00m\u001b[38;5;250m \u001b[39m\u001b[38;5;21mTryClick\u001b[39m(\u001b[38;5;28mself\u001b[39m,x,y):\n\u001b[0;32m     48\u001b[0m     \u001b[38;5;28;01mif\u001b[39;00m \u001b[38;5;28mself\u001b[39m\u001b[38;5;241m.\u001b[39mCanClick(x,y):\n\u001b[1;32m---> 49\u001b[0m         \u001b[38;5;28;43mself\u001b[39;49m\u001b[38;5;241;43m.\u001b[39;49m\u001b[43mClick\u001b[49m\u001b[43m(\u001b[49m\u001b[43mx\u001b[49m\u001b[43m,\u001b[49m\u001b[43my\u001b[49m\u001b[43m)\u001b[49m\n",
      "File \u001b[1;32mD:\\Project\\GitProject\\MineSweeper_Py\\MineSweeper\\core\\MineSweeperGame.py:77\u001b[0m, in \u001b[0;36mMineSweeperGame.Click\u001b[1;34m(self, x, y)\u001b[0m\n\u001b[0;32m     75\u001b[0m \u001b[38;5;28;01mif\u001b[39;00m \u001b[38;5;129;01mnot\u001b[39;00m \u001b[38;5;28mself\u001b[39m\u001b[38;5;241m.\u001b[39mgenerated:\n\u001b[0;32m     76\u001b[0m     \u001b[38;5;28mself\u001b[39m\u001b[38;5;241m.\u001b[39mcellGrid\u001b[38;5;241m.\u001b[39mGenerateMines(\u001b[38;5;28mself\u001b[39m\u001b[38;5;241m.\u001b[39mcellGrid\u001b[38;5;241m.\u001b[39mcells[x][y],\u001b[38;5;28mself\u001b[39m\u001b[38;5;241m.\u001b[39mminesNum)\n\u001b[1;32m---> 77\u001b[0m     \u001b[38;5;28;43mself\u001b[39;49m\u001b[38;5;241;43m.\u001b[39;49m\u001b[43mcellGrid\u001b[49m\u001b[38;5;241;43m.\u001b[39;49m\u001b[43mGenerateNumbers\u001b[49m\u001b[43m(\u001b[49m\u001b[43m)\u001b[49m\n\u001b[0;32m     78\u001b[0m     \u001b[38;5;28mself\u001b[39m\u001b[38;5;241m.\u001b[39mgenerated \u001b[38;5;241m=\u001b[39m \u001b[38;5;28;01mTrue\u001b[39;00m\n\u001b[0;32m     80\u001b[0m cell \u001b[38;5;241m=\u001b[39m \u001b[38;5;28mself\u001b[39m\u001b[38;5;241m.\u001b[39mcellGrid\u001b[38;5;241m.\u001b[39mcells[x][y]\n",
      "File \u001b[1;32mD:\\Project\\GitProject\\MineSweeper_Py\\MineSweeper\\core\\CellGrid.py:33\u001b[0m, in \u001b[0;36mCellGrid.GenerateNumbers\u001b[1;34m(self)\u001b[0m\n\u001b[0;32m     31\u001b[0m         \u001b[38;5;28;01mif\u001b[39;00m cell\u001b[38;5;241m.\u001b[39mcellType \u001b[38;5;241m==\u001b[39m CellType\u001b[38;5;241m.\u001b[39mMine:\n\u001b[0;32m     32\u001b[0m             \u001b[38;5;28;01mcontinue\u001b[39;00m\n\u001b[1;32m---> 33\u001b[0m         cell\u001b[38;5;241m.\u001b[39mnumber \u001b[38;5;241m=\u001b[39m \u001b[38;5;28;43mself\u001b[39;49m\u001b[38;5;241;43m.\u001b[39;49m\u001b[43mCountAdjacentMines\u001b[49m\u001b[43m(\u001b[49m\u001b[43mcell\u001b[49m\u001b[43m)\u001b[49m\n\u001b[0;32m     34\u001b[0m         cell\u001b[38;5;241m.\u001b[39mcellType \u001b[38;5;241m=\u001b[39m CellType\u001b[38;5;241m.\u001b[39mNumber \u001b[38;5;28;01mif\u001b[39;00m cell\u001b[38;5;241m.\u001b[39mnumber \u001b[38;5;241m>\u001b[39m \u001b[38;5;241m0\u001b[39m \u001b[38;5;28;01melse\u001b[39;00m CellType\u001b[38;5;241m.\u001b[39mEmpty\n\u001b[0;32m     35\u001b[0m \u001b[38;5;28;01mreturn\u001b[39;00m\n",
      "File \u001b[1;32mD:\\Project\\GitProject\\MineSweeper_Py\\MineSweeper\\core\\CellGrid.py:45\u001b[0m, in \u001b[0;36mCellGrid.CountAdjacentMines\u001b[1;34m(self, cell)\u001b[0m\n\u001b[0;32m     43\u001b[0m             \u001b[38;5;28;01mcontinue\u001b[39;00m\n\u001b[0;32m     44\u001b[0m         hasCell, adjacentCell \u001b[38;5;241m=\u001b[39m \u001b[38;5;28mself\u001b[39m\u001b[38;5;241m.\u001b[39mTryGetCell(x \u001b[38;5;241m+\u001b[39m i, y \u001b[38;5;241m+\u001b[39m j)\n\u001b[1;32m---> 45\u001b[0m         \u001b[38;5;28;01mif\u001b[39;00m hasCell \u001b[38;5;129;01mand\u001b[39;00m \u001b[43madjacentCell\u001b[49m\u001b[38;5;241;43m.\u001b[39;49m\u001b[43mcellType\u001b[49m\u001b[43m \u001b[49m\u001b[38;5;241;43m==\u001b[39;49m\u001b[43m \u001b[49m\u001b[43mCellType\u001b[49m\u001b[38;5;241;43m.\u001b[39;49m\u001b[43mMine\u001b[49m:\n\u001b[0;32m     46\u001b[0m             count \u001b[38;5;241m+\u001b[39m\u001b[38;5;241m=\u001b[39m \u001b[38;5;241m1\u001b[39m\n\u001b[0;32m     47\u001b[0m \u001b[38;5;28;01mreturn\u001b[39;00m count\n",
      "\u001b[1;31mKeyboardInterrupt\u001b[0m: "
     ]
    }
   ],
   "source": [
    "mineSweeperService = MineSweeperService()\n",
    "RandomWinRate(mineSweeperService,int(1e7))"
   ]
  },
  {
   "cell_type": "code",
   "execution_count": null,
   "metadata": {},
   "outputs": [
    {
     "name": "stdout",
     "output_type": "stream",
     "text": [
      "WinRun:2,GameRun:20236,LossRun:20234\n",
      "WinRate: 9.8833761612967e-05\n"
     ]
    }
   ],
   "source": [
    "mineSweeperService = MineSweeperService(height=6,width=6,mineNum=6)\n",
    "RandomWinRate(mineSweeperService,int(1e5))"
   ]
  },
  {
   "cell_type": "code",
   "execution_count": null,
   "metadata": {},
   "outputs": [
    {
     "name": "stdout",
     "output_type": "stream",
     "text": [
      "WinRun:36,GameRun:201956,LossRun:201920\n",
      "WinRate: 0.00017825664996335834\n"
     ]
    }
   ],
   "source": [
    "mineSweeperService = MineSweeperService(height=6,width=6,mineNum=6)\n",
    "RandomWinRate(mineSweeperService,int(1e6))"
   ]
  },
  {
   "cell_type": "code",
   "execution_count": null,
   "metadata": {},
   "outputs": [
    {
     "name": "stdout",
     "output_type": "stream",
     "text": [
      "WinRun:264,GameRun:2016765,LossRun:2016501\n",
      "WinRate: 0.00013090270804977277\n"
     ]
    }
   ],
   "source": [
    "mineSweeperService = MineSweeperService(height=6,width=6,mineNum=6)\n",
    "RandomWinRate(mineSweeperService,int(1e7))"
   ]
  },
  {
   "cell_type": "code",
   "execution_count": null,
   "metadata": {},
   "outputs": [
    {
     "name": "stdout",
     "output_type": "stream",
     "text": [
      "WinRun:2708,GameRun:237675,LossRun:234967\n",
      "WinRate: 0.011393709897969917\n"
     ]
    }
   ],
   "source": [
    "mineSweeperService = MineSweeperService(height=5,width=5,mineNum=5)\n",
    "RandomWinRate(mineSweeperService,int(1e6))"
   ]
  },
  {
   "cell_type": "code",
   "execution_count": null,
   "metadata": {},
   "outputs": [
    {
     "name": "stdout",
     "output_type": "stream",
     "text": [
      "WinRun:27032,GameRun:329637,LossRun:302605\n",
      "WinRate: 0.08200535740830064\n"
     ]
    }
   ],
   "source": [
    "mineSweeperService = MineSweeperService(height=3,width=3,mineNum=3)\n",
    "RandomWinRate(mineSweeperService,int(1e6))"
   ]
  }
 ],
 "metadata": {
  "kernelspec": {
   "display_name": "Python 3",
   "language": "python",
   "name": "python3"
  },
  "language_info": {
   "codemirror_mode": {
    "name": "ipython",
    "version": 3
   },
   "file_extension": ".py",
   "mimetype": "text/x-python",
   "name": "python",
   "nbconvert_exporter": "python",
   "pygments_lexer": "ipython3",
   "version": "3.10.8"
  }
 },
 "nbformat": 4,
 "nbformat_minor": 2
}
