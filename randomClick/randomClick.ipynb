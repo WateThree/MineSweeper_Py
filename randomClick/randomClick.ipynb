{
 "cells": [
  {
   "cell_type": "code",
   "execution_count": null,
   "metadata": {},
   "outputs": [],
   "source": [
    "#pip install -e ."
   ]
  },
  {
   "cell_type": "code",
   "execution_count": 3,
   "metadata": {},
   "outputs": [],
   "source": [
    "from MineSweeper.core import MineSweeperService\n",
    "def RandomWinRate(mineSweeperService:MineSweeperService,iter):\n",
    "    GameRun = 0\n",
    "    WinRun =0\n",
    "    LossRun = 0\n",
    "    for _ in range(iter):\n",
    "        mineSweeperService.RandomClick()\n",
    "        if(mineSweeperService.IsGameOver()):\n",
    "            if(mineSweeperService.IsGameWin()):\n",
    "                WinRun += 1\n",
    "            if(mineSweeperService.IsGameLoss()):\n",
    "                LossRun += 1\n",
    "            \n",
    "            GameRun += 1\n",
    "            mineSweeperService.ReSetCurGame()\n",
    "\n",
    "    print(f\"WinRun:{WinRun},GameRun:{GameRun},LossRun:{LossRun}\")\n",
    "    print(\"WinRate:\",float(WinRun) / float(GameRun))"
   ]
  },
  {
   "cell_type": "code",
   "execution_count": 5,
   "metadata": {},
   "outputs": [
    {
     "ename": "TypeError",
     "evalue": "'module' object is not callable",
     "output_type": "error",
     "traceback": [
      "\u001b[1;31m---------------------------------------------------------------------------\u001b[0m",
      "\u001b[1;31mTypeError\u001b[0m                                 Traceback (most recent call last)",
      "Cell \u001b[1;32mIn[5], line 1\u001b[0m\n\u001b[1;32m----> 1\u001b[0m mineSweeperService \u001b[38;5;241m=\u001b[39m \u001b[43mMineSweeperService\u001b[49m\u001b[43m(\u001b[49m\u001b[43m)\u001b[49m\n\u001b[0;32m      2\u001b[0m RandomWinRate(mineSweeperService,\u001b[38;5;28mint\u001b[39m(\u001b[38;5;241m1e5\u001b[39m))\n",
      "\u001b[1;31mTypeError\u001b[0m: 'module' object is not callable"
     ]
    }
   ],
   "source": [
    "mineSweeperService = MineSweeperService()\n",
    "RandomWinRate(mineSweeperService,int(1e5))"
   ]
  },
  {
   "cell_type": "code",
   "execution_count": 12,
   "metadata": {},
   "outputs": [
    {
     "name": "stdout",
     "output_type": "stream",
     "text": [
      "WinRun:31,GameRun:201442,LossRun:201411\n",
      "WinRate: 0.00015389044985653438\n"
     ]
    }
   ],
   "source": [
    "mineSweeperService = MineSweeperService()\n",
    "RandomWinRate(mineSweeperService,int(1e6))"
   ]
  },
  {
   "cell_type": "code",
   "execution_count": 13,
   "metadata": {},
   "outputs": [
    {
     "name": "stdout",
     "output_type": "stream",
     "text": [
      "WinRun:295,GameRun:2016322,LossRun:2016027\n",
      "WinRate: 0.00014630599676043805\n"
     ]
    }
   ],
   "source": [
    "mineSweeperService = MineSweeperService()\n",
    "RandomWinRate(mineSweeperService,int(1e7))"
   ]
  },
  {
   "cell_type": "code",
   "execution_count": 14,
   "metadata": {},
   "outputs": [
    {
     "name": "stdout",
     "output_type": "stream",
     "text": [
      "WinRun:2,GameRun:20236,LossRun:20234\n",
      "WinRate: 9.8833761612967e-05\n"
     ]
    }
   ],
   "source": [
    "mineSweeperService = MineSweeperService(height=6,width=6,mineNum=6)\n",
    "RandomWinRate(mineSweeperService,int(1e5))"
   ]
  },
  {
   "cell_type": "code",
   "execution_count": 15,
   "metadata": {},
   "outputs": [
    {
     "name": "stdout",
     "output_type": "stream",
     "text": [
      "WinRun:36,GameRun:201956,LossRun:201920\n",
      "WinRate: 0.00017825664996335834\n"
     ]
    }
   ],
   "source": [
    "mineSweeperService = MineSweeperService(height=6,width=6,mineNum=6)\n",
    "RandomWinRate(mineSweeperService,int(1e6))"
   ]
  },
  {
   "cell_type": "code",
   "execution_count": 16,
   "metadata": {},
   "outputs": [
    {
     "name": "stdout",
     "output_type": "stream",
     "text": [
      "WinRun:264,GameRun:2016765,LossRun:2016501\n",
      "WinRate: 0.00013090270804977277\n"
     ]
    }
   ],
   "source": [
    "mineSweeperService = MineSweeperService(height=6,width=6,mineNum=6)\n",
    "RandomWinRate(mineSweeperService,int(1e7))"
   ]
  }
 ],
 "metadata": {
  "kernelspec": {
   "display_name": "Python 3",
   "language": "python",
   "name": "python3"
  },
  "language_info": {
   "codemirror_mode": {
    "name": "ipython",
    "version": 3
   },
   "file_extension": ".py",
   "mimetype": "text/x-python",
   "name": "python",
   "nbconvert_exporter": "python",
   "pygments_lexer": "ipython3",
   "version": "3.10.8"
  }
 },
 "nbformat": 4,
 "nbformat_minor": 2
}
